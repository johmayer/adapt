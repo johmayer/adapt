{
 "cells": [
  {
   "cell_type": "markdown",
   "id": "cd6c5d2a",
   "metadata": {},
   "source": [
    "## LUT conversion Tool \n",
    "\n",
    "Converting an approximate multiplier function into a pre-computed C header file\n",
    "\n",
    " * An example toolflow is presented of importing an axx_mult from EvoApprox library (Step 1a) but any user-defined axx_mult can be used (Step 1b)\n",
    " * Start from \"Step 1a\" or \"Step 1b\" depending on your case\n",
    " \n",
    " * **Important** : Only 8bit singed multipliers are supported at the moment. So the output header file must be a 256x256 C-array"
   ]
  },
  {
   "cell_type": "markdown",
   "id": "3b244c09",
   "metadata": {},
   "source": [
    "## Step 1a (case for EvoApprox multiplier)\n",
    "\n",
    "Select an axx_mult from EvoApprox library and run the provided script from EvoApprox (python pyx method)"
   ]
  },
  {
   "cell_type": "code",
   "execution_count": 1,
   "id": "f31c94be",
   "metadata": {},
   "outputs": [
    {
     "ename": "ModuleNotFoundError",
     "evalue": "No module named 'mul8s_1L2H'",
     "output_type": "error",
     "traceback": [
      "\u001b[0;31m---------------------------------------------------------------------------\u001b[0m",
      "\u001b[0;31mModuleNotFoundError\u001b[0m                       Traceback (most recent call last)",
      "Input \u001b[0;32mIn [1]\u001b[0m, in \u001b[0;36m<cell line: 8>\u001b[0;34m()\u001b[0m\n\u001b[1;32m      6\u001b[0m \u001b[38;5;28;01mimport\u001b[39;00m \u001b[38;5;21;01mpyximport\u001b[39;00m\n\u001b[1;32m      7\u001b[0m pyximport\u001b[38;5;241m.\u001b[39minstall()\n\u001b[0;32m----> 8\u001b[0m \u001b[38;5;28;01mimport\u001b[39;00m \u001b[38;5;21;01mmul8s_1L2H\u001b[39;00m\n\u001b[1;32m     10\u001b[0m \u001b[38;5;28;01mdef\u001b[39;00m \u001b[38;5;21mu2s\u001b[39m(v): \u001b[38;5;66;03m# 16b unsigned to 16b signed\u001b[39;00m\n\u001b[1;32m     11\u001b[0m     \u001b[38;5;28;01mif\u001b[39;00m v \u001b[38;5;241m&\u001b[39m \u001b[38;5;241m32768\u001b[39m:\n",
      "\u001b[0;31mModuleNotFoundError\u001b[0m: No module named 'mul8s_1L2H'"
     ]
    }
   ],
   "source": [
    "use_evo = True\n",
    "\n",
    "# example used: mul8s_1L2H\n",
    "################\n",
    "! curl -s \"https://ehw.fit.vutbr.cz/evoapproxlib/v1.1?folder=multiplers/8x8_signed/pareto_pwr_mae&file=mul8s_1L2H.c&pyx=bash\" | bash\n",
    "import pyximport\n",
    "pyximport.install()\n",
    "import mul8s_1L2H\n",
    "\n",
    "def u2s(v): # 16b unsigned to 16b signed\n",
    "    if v & 32768:\n",
    "        return v - 65536\n",
    "    return v\n",
    "################\n"
   ]
  },
  {
   "cell_type": "markdown",
   "id": "01fc8d96",
   "metadata": {},
   "source": [
    "## Step 1b (case for user-defined multiplier)\n",
    "\n",
    "Create a class for your custom multiplier. The function 'mult' inside can be user-defined\n"
   ]
  },
  {
   "cell_type": "code",
   "execution_count": 1,
   "id": "f645b806-bdf4-409d-9bfa-7baadacf9c68",
   "metadata": {},
   "outputs": [],
   "source": [
    "import numpy as np\n",
    "i = 5\n",
    "multiplier = np.load(f\"S_{i}.npy\") \n",
    "def mulX(a,b):\n",
    "    result = multiplier[a + 128,b+128]\n",
    "    return result"
   ]
  },
  {
   "cell_type": "code",
   "execution_count": 2,
   "id": "271b0f6c",
   "metadata": {},
   "outputs": [],
   "source": [
    "use_evo = False\n",
    "\n",
    "class my_accurate_mult(object):\n",
    "    def mul(self, a, b):\n",
    "        return mulX(a,b)"
   ]
  },
  {
   "cell_type": "markdown",
   "id": "f63bc7ff",
   "metadata": {},
   "source": [
    "## Step 2\n",
    "\n",
    "Select the current multiplier\n"
   ]
  },
  {
   "cell_type": "code",
   "execution_count": 17,
   "id": "de6f4a37",
   "metadata": {},
   "outputs": [],
   "source": [
    "if use_evo:\n",
    "    # for EvoApprox multiplier\n",
    "    axx_mult = mul8s_acc # change name appropriately\n",
    "else:\n",
    "    # for user-defined multiplier\n",
    "    axx_mult = my_accurate_mult()"
   ]
  },
  {
   "cell_type": "markdown",
   "id": "498b9cdf",
   "metadata": {},
   "source": [
    "## Step 3\n",
    "\n",
    "### unsigned to signed conversion for user-defined multiplier\n",
    "\n",
    "If the user-defined multiplier outputs unsigned numbers you need to set the following flag to 'True' to convert to signed, otherwise set to 'False'. \n",
    "\n",
    "Leave the flag also to 'True' for the case of EvoApprox multiplier\n",
    "\n",
    "**Important** The function is used for 8-bit multipliers - no support for other arithmetic at the moment\n"
   ]
  },
  {
   "cell_type": "code",
   "execution_count": 18,
   "id": "9df25c1e",
   "metadata": {},
   "outputs": [],
   "source": [
    "use_signed_conversion = False"
   ]
  },
  {
   "cell_type": "code",
   "execution_count": 19,
   "id": "2fcff831",
   "metadata": {},
   "outputs": [],
   "source": [
    "###### DO NOT CHANGE ######\n",
    "\n",
    "nbits = 8\n",
    "\n",
    "if use_signed_conversion:\n",
    "    #for the case of signed conversion\n",
    "    def u2s(v): # 16b unsigned to 16b signed\n",
    "        if v & 32768:\n",
    "            return v - 65536\n",
    "        return v\n",
    "else:  \n",
    "    #for the case of no conversion\n",
    "    def u2s(v): \n",
    "        return v"
   ]
  },
  {
   "cell_type": "markdown",
   "id": "7a06373b",
   "metadata": {},
   "source": [
    "## Step 4\n",
    "\n",
    "Set the name of the header file to write on disk\n"
   ]
  },
  {
   "cell_type": "code",
   "execution_count": 30,
   "id": "f05138f2",
   "metadata": {},
   "outputs": [],
   "source": [
    "mult_name = 'S_4'"
   ]
  },
  {
   "cell_type": "markdown",
   "id": "34addb5f",
   "metadata": {},
   "source": [
    "## Step 5\n",
    "\n",
    "Write the header file to disk\n",
    "\n",
    "This script will write the C header file (*.h) to current folder path\n",
    "\n",
    "You can then move it to 'adapt/cpu-kernels/axx_mults' and use its file name as the arguement to adapt layers"
   ]
  },
  {
   "cell_type": "code",
   "execution_count": 31,
   "id": "6291a14d",
   "metadata": {},
   "outputs": [],
   "source": [
    "with open(mult_name + '.h', 'w') as filehandle: \n",
    "    bits = int(pow(2,nbits))\n",
    "    lut_size_str = str(bits)\n",
    "\n",
    "    filehandle.write('#include <stdint.h>\\n\\n')\n",
    "    filehandle.write('const int' + str(2*nbits) + '_t lut [' + lut_size_str + '][' + lut_size_str +'] = {')       \n",
    "    \n",
    "    for i in range (0,bits//2):\n",
    "        filehandle.write('{')\n",
    "        for j in range (0,bits//2):\n",
    "            x = u2s(axx_mult.mul(i,j))\n",
    "            filehandle.write('%s' % x)\n",
    "            filehandle.write(', ')  \n",
    "        for j in range (bits//2,bits):\n",
    "            x = u2s(axx_mult.mul(i,(bits-j)*-1))\n",
    "            filehandle.write('%s' % x)\n",
    "            if j!=bits-1:\n",
    "                filehandle.write(', ') \n",
    "        filehandle.write('},')  \n",
    "        filehandle.write('\\n')\n",
    "        \n",
    "    for i in range (bits//2,bits):\n",
    "        filehandle.write('{')\n",
    "        for j in range (0,bits//2):\n",
    "            x = u2s(axx_mult.mul((bits-i)*-1,j))        \n",
    "            filehandle.write('%s' % x)\n",
    "            filehandle.write(', ')  \n",
    "        for j in range (bits//2,bits):\n",
    "            x = u2s(axx_mult.mul((bits-i)*-1,(bits-j)*-1))\n",
    "            filehandle.write('%s' % x)\n",
    "            if j!=bits-1:\n",
    "                filehandle.write(', ')\n",
    "        if(i!=bits-1):        \n",
    "            filehandle.write('},')\n",
    "            filehandle.write('\\n')\n",
    "    filehandle.write('}};\\n')        "
   ]
  },
  {
   "cell_type": "code",
   "execution_count": null,
   "id": "b24a8578",
   "metadata": {},
   "outputs": [],
   "source": []
  }
 ],
 "metadata": {
  "kernelspec": {
   "display_name": "Python 3 (ipykernel)",
   "language": "python",
   "name": "python3"
  },
  "language_info": {
   "codemirror_mode": {
    "name": "ipython",
    "version": 3
   },
   "file_extension": ".py",
   "mimetype": "text/x-python",
   "name": "python",
   "nbconvert_exporter": "python",
   "pygments_lexer": "ipython3",
   "version": "3.8.10"
  }
 },
 "nbformat": 4,
 "nbformat_minor": 5
}
